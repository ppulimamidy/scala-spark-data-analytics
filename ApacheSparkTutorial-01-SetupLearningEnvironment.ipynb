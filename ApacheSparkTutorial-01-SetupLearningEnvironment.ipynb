{
 "cells": [
  {
   "cell_type": "markdown",
   "metadata": {},
   "source": [
    "<h1 align=\"center\"> Apache Spark Tutorial @ Learning Journal </h1>\n",
    "\n",
    "---"
   ]
  },
  {
   "cell_type": "markdown",
   "metadata": {},
   "source": [
    "## Spark-01 - Setup Learning Environment\n",
    "\n",
    "This tutorial outlines the step by step process to setup standalone Spark on a Linux Machine.  It goes further and integrates Jupyter Notebook for Spark. By the end of this tutorial, you will be able to access Apache Spark using following methods.\n",
    "1. Spark Shell\n",
    "2. PySpark\n",
    "3. Scala Notebook\n",
    "4. Python Notebook\n",
    "\n",
    "A complete video compilation of this tutorial is available @ [Youtube](https://www.youtube.com/watch?v=AYZCpxYVxH4&list=PLkz1SCf5iB4dXiPdFD4hXwheRGRwhmd6K&index=1)."
   ]
  },
  {
   "cell_type": "markdown",
   "metadata": {},
   "source": [
    "### 1. Download and Install JDK"
   ]
  },
  {
   "cell_type": "markdown",
   "metadata": {
    "collapsed": true
   },
   "source": [
    "``` bash\n",
    "wget -c --header \"Cookie: oraclelicense=accept-securebackup-cookie\" http://download.oracle.com/otn-pub/java/jdk/8u144-b01/090f390dda5b47b9b721c7dfaa008135/jdk-8u144-linux-x64.rpm\n",
    "yum localinstall jdk-8u121-linux-x64.rpm\n",
    "```"
   ]
  },
  {
   "cell_type": "markdown",
   "metadata": {},
   "source": [
    "### 2. Download and Install Spark"
   ]
  },
  {
   "cell_type": "markdown",
   "metadata": {
    "collapsed": true
   },
   "source": [
    "``` bash\n",
    "wget -c https://d3kbcqa49mib13.cloudfront.net/spark-2.2.0-bin-hadoop2.7.tgz\n",
    "mkdir ~/spark\n",
    "tar -zxvf spark-2.2.0-bin-hadoop2.6.tgz -C ~/spark/\n",
    "```"
   ]
  },
  {
   "cell_type": "markdown",
   "metadata": {},
   "source": [
    "### 3. Set Environment variables"
   ]
  },
  {
   "cell_type": "markdown",
   "metadata": {},
   "source": [
    "Add following lines in your ***.bash_profile*** or ***.bashrc***"
   ]
  },
  {
   "cell_type": "markdown",
   "metadata": {
    "collapsed": true
   },
   "source": [
    "```bash\n",
    "export SPARK_HOME=~/spark/spark-2.2.0-bin-hadoop2.7\n",
    "export PATH=$PATH:$SPARK_HOME/bin\n",
    "```"
   ]
  },
  {
   "cell_type": "markdown",
   "metadata": {},
   "source": [
    "### 4. Test Spark Installation"
   ]
  },
  {
   "cell_type": "markdown",
   "metadata": {},
   "source": [
    "You can start Spark shell and Python shell by typing below commands"
   ]
  },
  {
   "cell_type": "markdown",
   "metadata": {
    "collapsed": true
   },
   "source": [
    "```bash\n",
    "#To start spark shell\n",
    "spark-shell\n",
    "#To start python shell\n",
    "pyspark\n",
    "```"
   ]
  },
  {
   "cell_type": "markdown",
   "metadata": {},
   "source": [
    "Test Spark by typing below code on Spark shell. The data file used in this tutorial is available in this repo. Look for *data* folder."
   ]
  },
  {
   "cell_type": "code",
   "execution_count": 4,
   "metadata": {},
   "outputs": [
    {
     "name": "stdout",
     "output_type": "stream",
     "text": [
      "+-----+---+\n",
      "| name|age|\n",
      "+-----+---+\n",
      "| Andy| 30|\n",
      "|Abdul| 22|\n",
      "|Robin| 45|\n",
      "|Larry| 37|\n",
      "+-----+---+\n",
      "\n"
     ]
    }
   ],
   "source": [
    "val df = spark.read.json(\"data/people.json\")\n",
    "df.filter(\"age > 21\").select(\"name\",\"age\").show()"
   ]
  },
  {
   "cell_type": "code",
   "execution_count": 5,
   "metadata": {},
   "outputs": [
    {
     "name": "stdout",
     "output_type": "stream",
     "text": [
      "+---+-----+\n",
      "|age| name|\n",
      "+---+-----+\n",
      "| 30| Andy|\n",
      "| 22|Abdul|\n",
      "| 45|Robin|\n",
      "| 37|Larry|\n",
      "+---+-----+\n",
      "\n"
     ]
    }
   ],
   "source": [
    "df.createOrReplaceTempView(\"people\")\n",
    "spark.sql(\"SELECT * FROM people where age > 21\").show()"
   ]
  },
  {
   "cell_type": "markdown",
   "metadata": {},
   "source": [
    "### 5. Download and Install Anaconda"
   ]
  },
  {
   "cell_type": "markdown",
   "metadata": {
    "collapsed": true
   },
   "source": [
    "```bash\n",
    "wget -c https://repo.continuum.io/archive/Anaconda3-5.0.0.1-Linux-x86_64.sh\n",
    "bash Anaconda3-5.0.0.1-Linux-x86_64.sh\n",
    "```"
   ]
  },
  {
   "cell_type": "markdown",
   "metadata": {},
   "source": [
    "### 6. Download and Install Apache Toree"
   ]
  },
  {
   "cell_type": "markdown",
   "metadata": {
    "collapsed": true
   },
   "source": [
    "```bash\n",
    "wget -c https://dist.apache.org/repos/dist/dev/incubator/toree/0.2.0/snapshots/dev1/toree-pip/toree-0.2.0.dev1.tar.gz\n",
    "pip install toree-0.2.0.dev1.tar.gz\n",
    "jupyter toree install --spark_home=$SPARK_HOME --interpreters=Scala,PySpark,SQL --user\n",
    "```"
   ]
  },
  {
   "cell_type": "markdown",
   "metadata": {},
   "source": [
    "### 7. Start Jupyter Server ( for local machine)"
   ]
  },
  {
   "cell_type": "markdown",
   "metadata": {
    "collapsed": true
   },
   "source": [
    "```bash\n",
    "jupyter notebook --no-browser\n",
    "```"
   ]
  },
  {
   "cell_type": "markdown",
   "metadata": {},
   "source": [
    "The Jypyter server will show you a http link with a token. Copy and paste the link in your browser."
   ]
  },
  {
   "cell_type": "markdown",
   "metadata": {},
   "source": [
    "### 8. Start Jupyter Server ( for a VM in Google cloud )"
   ]
  },
  {
   "cell_type": "markdown",
   "metadata": {},
   "source": [
    "If you are using a VM in Google cloud, perform following steps before starting your Jupyter Server.\n",
    "1. Upgrade external IP address of your VM to a static IP\n",
    "2. Add a firewall rule to open TCP 8888 port\n",
    "\n",
    "Start your Jupyter Server using below command."
   ]
  },
  {
   "cell_type": "markdown",
   "metadata": {
    "collapsed": true
   },
   "source": [
    "```bash\n",
    "jupyter notebook --ip=0.0.0.0  --port=8888 --no-browser\n",
    "```"
   ]
  },
  {
   "cell_type": "markdown",
   "metadata": {
    "collapsed": true
   },
   "source": [
    "The Jupiter server will give you a URL.\n",
    "\n",
    "Copy the URL and replace the 0.0.0.0 by your VM's external IP address. Paste the new URL into your browser."
   ]
  },
  {
   "cell_type": "markdown",
   "metadata": {},
   "source": [
    "### 9. Test your connection using below code."
   ]
  },
  {
   "cell_type": "code",
   "execution_count": 6,
   "metadata": {},
   "outputs": [
    {
     "name": "stdout",
     "output_type": "stream",
     "text": [
      "+-----+---+\n",
      "| name|age|\n",
      "+-----+---+\n",
      "| Andy| 30|\n",
      "|Abdul| 22|\n",
      "|Robin| 45|\n",
      "|Larry| 37|\n",
      "+-----+---+\n",
      "\n"
     ]
    }
   ],
   "source": [
    "val df = spark.read.json(\"data/people.json\")\n",
    "df.filter(\"age > 21\").select(\"name\",\"age\").show()"
   ]
  },
  {
   "cell_type": "code",
   "execution_count": 7,
   "metadata": {
    "collapsed": true
   },
   "outputs": [],
   "source": [
    "df.createOrReplaceTempView(\"people\")"
   ]
  },
  {
   "cell_type": "code",
   "execution_count": 8,
   "metadata": {},
   "outputs": [
    {
     "data": {
      "text/plain": [
       "+---+-----+\n",
       "|age| name|\n",
       "+---+-----+\n",
       "| 30| Andy|\n",
       "| 22|Abdul|\n",
       "+---+-----+\n",
       "\n"
      ]
     },
     "execution_count": 8,
     "metadata": {},
     "output_type": "execute_result"
    }
   ],
   "source": [
    "%%sql\n",
    "select * from people where name like 'A%'"
   ]
  },
  {
   "cell_type": "markdown",
   "metadata": {},
   "source": [
    "### 10. What's Next"
   ]
  },
  {
   "cell_type": "markdown",
   "metadata": {},
   "source": [
    "1. Get more details about [How to use Jupyter Notebooks](https://jupyter-notebook.readthedocs.io/en/latest/examples/Notebook/examples_index.html)\n"
   ]
  }
 ],
 "metadata": {
  "kernelspec": {
   "display_name": "Apache Toree - Scala",
   "language": "scala",
   "name": "apache_toree_scala"
  },
  "language_info": {
   "codemirror_mode": "text/x-scala",
   "file_extension": ".scala",
   "mimetype": "text/x-scala",
   "name": "scala",
   "pygments_lexer": "scala",
   "version": "2.11.8"
  }
 },
 "nbformat": 4,
 "nbformat_minor": 2
}
